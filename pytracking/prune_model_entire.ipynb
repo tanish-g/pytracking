{
 "cells": [
  {
   "cell_type": "code",
   "execution_count": 1,
   "metadata": {},
   "outputs": [],
   "source": [
    "import torch"
   ]
  },
  {
   "cell_type": "code",
   "execution_count": 3,
   "metadata": {},
   "outputs": [
    {
     "name": "stdout",
     "output_type": "stream",
     "text": [
      "/workspace/pytracking\n"
     ]
    }
   ],
   "source": [
    "%cd /workspace/pytracking"
   ]
  },
  {
   "cell_type": "code",
   "execution_count": 4,
   "metadata": {},
   "outputs": [],
   "source": [
    "from ltr.admin.loading import torch_load_legacy"
   ]
  },
  {
   "cell_type": "code",
   "execution_count": null,
   "metadata": {},
   "outputs": [],
   "source": [
    "# ckpt = torch.load('/workspace/pytracking/pytracking/networks/Prune_Dimp_last.pth.tar')['net']"
   ]
  },
  {
   "cell_type": "code",
   "execution_count": null,
   "metadata": {},
   "outputs": [],
   "source": [
    "# ckpt['feature_extractor.layer1.0.bn1.weight'].shape"
   ]
  },
  {
   "cell_type": "code",
   "execution_count": null,
   "metadata": {},
   "outputs": [],
   "source": [
    "# ckpt1  = torch.load('/workspace/tracking_datasets/saved_ckpts/ltr/dimp/child_dimp50/prune_dimp50/Prune_Dimp_last.pth.tar')['net']"
   ]
  },
  {
   "cell_type": "code",
   "execution_count": null,
   "metadata": {},
   "outputs": [],
   "source": [
    "# ckpt1['feature_extractor.layer1.0.bn1.weight'].shape"
   ]
  },
  {
   "cell_type": "code",
   "execution_count": null,
   "metadata": {},
   "outputs": [],
   "source": [
    "# ckpt  = torch.load('/workspace/tracking_datasets/saved_ckpts/ltr/dimp/child_dimp50_scratch/prune_dimp50/Prune_Dimp_last.pth.tar')['net']"
   ]
  },
  {
   "cell_type": "code",
   "execution_count": 5,
   "metadata": {},
   "outputs": [],
   "source": [
    "from ltr.models.tracking import dimpnet"
   ]
  },
  {
   "cell_type": "code",
   "execution_count": 6,
   "metadata": {},
   "outputs": [],
   "source": [
    "ckpt1 = torch_load_legacy('/workspace/tracking_datasets/saved_ckpts/ltr/dimp/scratch/dimp101/DiMPnet_ep0101.pth.tar')['net']"
   ]
  },
  {
   "cell_type": "code",
   "execution_count": 7,
   "metadata": {},
   "outputs": [],
   "source": [
    "ckpt2 = torch_load_legacy('/workspace/tracking_datasets/pruned_ckpts/dimp101_correct/pruned_50p.pth.tar')['state_dict']"
   ]
  },
  {
   "cell_type": "code",
   "execution_count": 8,
   "metadata": {},
   "outputs": [],
   "source": [
    "for key, value in ckpt1.items():\n",
    "    if (key.split('.')[0] == 'feature_extractor'):\n",
    "        ckpt1[key] = ckpt2[key.replace('feature_extractor.','')]"
   ]
  },
  {
   "cell_type": "code",
   "execution_count": null,
   "metadata": {},
   "outputs": [],
   "source": [
    "# ckpt"
   ]
  },
  {
   "cell_type": "code",
   "execution_count": null,
   "metadata": {},
   "outputs": [],
   "source": [
    "net = dimpnet.dimpnet50_child(filter_size= 4 , backbone_pretrained=True, optim_iter=5,\n",
    "                            clf_feat_norm=True, clf_feat_blocks=0, final_conv=True, out_feature_dim=512,\n",
    "                            optim_init_step=0.9, optim_init_reg=0.1,\n",
    "                            init_gauss_sigma= 18.0/20.0, num_dist_bins=100,\n",
    "                            bin_displacement=0.1, mask_init_factor=3.0, target_mask_act='sigmoid', score_act='relu')\n",
    "net.load_state_dict(ckpt1, strict = False)\n",
    "# net.load_state_dict(torch_load_legacy('/workspace/pytracking/pytracking/networks/dimp50.pth')['net'],strict=False)"
   ]
  },
  {
   "cell_type": "code",
   "execution_count": null,
   "metadata": {},
   "outputs": [],
   "source": []
  }
 ],
 "metadata": {
  "kernelspec": {
   "display_name": "Python 3",
   "language": "python",
   "name": "python3"
  },
  "language_info": {
   "codemirror_mode": {
    "name": "ipython",
    "version": 3
   },
   "file_extension": ".py",
   "mimetype": "text/x-python",
   "name": "python",
   "nbconvert_exporter": "python",
   "pygments_lexer": "ipython3",
   "version": "3.8.5"
  }
 },
 "nbformat": 4,
 "nbformat_minor": 4
}
